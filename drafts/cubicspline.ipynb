{
 "cells": [
  {
   "cell_type": "code",
   "execution_count": 1,
   "metadata": {},
   "outputs": [],
   "source": [
    "import sympy as sp"
   ]
  },
  {
   "cell_type": "code",
   "execution_count": 5,
   "metadata": {},
   "outputs": [],
   "source": [
    "x_0 = sp.Symbol('x_0')\n",
    "y_0, y_1, y_2 = sp.symbols('y_0 y_1 y_2')\n",
    "h_0, h_1 = sp.symbols('h_0 h_1')\n",
    "x_1 = x_0 + h_0\n",
    "x_2 = x_1 + h_1"
   ]
  },
  {
   "cell_type": "code",
   "execution_count": 6,
   "metadata": {},
   "outputs": [],
   "source": [
    "m_0, m_1, m_2 = sp.symbols('m_0 m_1 m_2')"
   ]
  },
  {
   "cell_type": "code",
   "execution_count": 7,
   "metadata": {},
   "outputs": [],
   "source": [
    "k1L = sp.Symbol('k_1^L')\n",
    "k1R = sp.Symbol('k_1^R')\n",
    "k2L = sp.Symbol('k_2^L')\n",
    "k2R = sp.Symbol('k_2^R')"
   ]
  },
  {
   "cell_type": "code",
   "execution_count": 8,
   "metadata": {},
   "outputs": [],
   "source": [
    "x = sp.Symbol('x')"
   ]
  },
  {
   "cell_type": "code",
   "execution_count": 9,
   "metadata": {},
   "outputs": [],
   "source": [
    "mL = (m_1 - m_0) / h_0 * (x - x_0) + m_0\n",
    "mR = (m_2 - m_1) / h_1 * (x - x_1) + m_1"
   ]
  },
  {
   "cell_type": "code",
   "execution_count": 10,
   "metadata": {},
   "outputs": [
    {
     "data": {
      "text/latex": [
       "$\\displaystyle m_{0} + \\frac{\\left(- m_{0} + m_{1}\\right) \\left(x - x_{0}\\right)}{h_{0}}$"
      ],
      "text/plain": [
       "m_0 + (-m_0 + m_1)*(x - x_0)/h_0"
      ]
     },
     "execution_count": 10,
     "metadata": {},
     "output_type": "execute_result"
    }
   ],
   "source": [
    "mL"
   ]
  },
  {
   "cell_type": "code",
   "execution_count": 11,
   "metadata": {},
   "outputs": [
    {
     "data": {
      "text/latex": [
       "$\\displaystyle m_{1} + \\frac{\\left(- m_{1} + m_{2}\\right) \\left(- h_{0} + x - x_{0}\\right)}{h_{1}}$"
      ],
      "text/plain": [
       "m_1 + (-m_1 + m_2)*(-h_0 + x - x_0)/h_1"
      ]
     },
     "execution_count": 11,
     "metadata": {},
     "output_type": "execute_result"
    }
   ],
   "source": [
    "mR"
   ]
  },
  {
   "cell_type": "code",
   "execution_count": 13,
   "metadata": {},
   "outputs": [
    {
     "data": {
      "text/latex": [
       "$\\displaystyle \\frac{h_{0} k^{L}_{1} + \\frac{x^{2} \\left(- m_{0} + m_{1}\\right)}{2} + x \\left(h_{0} m_{0} + m_{0} x_{0} - m_{1} x_{0}\\right)}{h_{0}}$"
      ],
      "text/plain": [
       "(h_0*k_1^L + x**2*(-m_0 + m_1)/2 + x*(h_0*m_0 + m_0*x_0 - m_1*x_0))/h_0"
      ]
     },
     "execution_count": 13,
     "metadata": {},
     "output_type": "execute_result"
    }
   ],
   "source": [
    "ypL = sp.integrate(mL, x) + k1L\n",
    "ypL = ypL.simplify()\n",
    "ypL"
   ]
  },
  {
   "cell_type": "code",
   "execution_count": 14,
   "metadata": {},
   "outputs": [
    {
     "data": {
      "text/latex": [
       "$\\displaystyle \\frac{h_{1} k^{R}_{1} + \\frac{x^{2} \\left(- m_{1} + m_{2}\\right)}{2} + x \\left(h_{0} m_{1} - h_{0} m_{2} + h_{1} m_{1} + m_{1} x_{0} - m_{2} x_{0}\\right)}{h_{1}}$"
      ],
      "text/plain": [
       "(h_1*k_1^R + x**2*(-m_1 + m_2)/2 + x*(h_0*m_1 - h_0*m_2 + h_1*m_1 + m_1*x_0 - m_2*x_0))/h_1"
      ]
     },
     "execution_count": 14,
     "metadata": {},
     "output_type": "execute_result"
    }
   ],
   "source": [
    "ypR = sp.integrate(mR, x) + k1R\n",
    "ypR = ypR.simplify()\n",
    "ypR"
   ]
  },
  {
   "cell_type": "code",
   "execution_count": 15,
   "metadata": {},
   "outputs": [
    {
     "data": {
      "text/latex": [
       "$\\displaystyle \\frac{6 h_{0} \\left(k^{L}_{1} x + k^{L}_{2}\\right) + x^{3} \\left(- m_{0} + m_{1}\\right) + 3 x^{2} \\left(h_{0} m_{0} + m_{0} x_{0} - m_{1} x_{0}\\right)}{6 h_{0}}$"
      ],
      "text/plain": [
       "(6*h_0*(k_1^L*x + k_2^L) + x**3*(-m_0 + m_1) + 3*x**2*(h_0*m_0 + m_0*x_0 - m_1*x_0))/(6*h_0)"
      ]
     },
     "execution_count": 15,
     "metadata": {},
     "output_type": "execute_result"
    }
   ],
   "source": [
    "yL = sp.integrate(ypL, x) + k2L\n",
    "yL = yL.simplify()\n",
    "yL"
   ]
  },
  {
   "cell_type": "code",
   "execution_count": 17,
   "metadata": {},
   "outputs": [
    {
     "data": {
      "text/latex": [
       "$\\displaystyle \\frac{6 h_{1} \\left(k^{R}_{1} x + k^{R}_{2}\\right) + x^{3} \\left(- m_{1} + m_{2}\\right) + 3 x^{2} \\left(h_{0} m_{1} - h_{0} m_{2} + h_{1} m_{1} + m_{1} x_{0} - m_{2} x_{0}\\right)}{6 h_{1}}$"
      ],
      "text/plain": [
       "(6*h_1*(k_1^R*x + k_2^R) + x**3*(-m_1 + m_2) + 3*x**2*(h_0*m_1 - h_0*m_2 + h_1*m_1 + m_1*x_0 - m_2*x_0))/(6*h_1)"
      ]
     },
     "execution_count": 17,
     "metadata": {},
     "output_type": "execute_result"
    }
   ],
   "source": [
    "yR = sp.integrate(ypR, x) + k2R\n",
    "yR = yR.simplify()\n",
    "yR"
   ]
  },
  {
   "cell_type": "code",
   "execution_count": 20,
   "metadata": {},
   "outputs": [
    {
     "data": {
      "text/latex": [
       "$\\displaystyle k^{L}_{1} x_{0} + k^{L}_{2} + \\frac{m_{0} x_{0}^{2}}{2} + \\frac{m_{0} x_{0}^{3}}{3 h_{0}} - \\frac{m_{1} x_{0}^{3}}{3 h_{0}} = y_{0}$"
      ],
      "text/plain": [
       "Eq(k_1^L*x_0 + k_2^L + m_0*x_0**2/2 + m_0*x_0**3/(3*h_0) - m_1*x_0**3/(3*h_0), y_0)"
      ]
     },
     "execution_count": 20,
     "metadata": {},
     "output_type": "execute_result"
    }
   ],
   "source": [
    "yL1 = yL.subs(x, x_0).simplify()\n",
    "eq1 = sp.Eq(yL1, y_0)\n",
    "eq1"
   ]
  },
  {
   "cell_type": "code",
   "execution_count": 21,
   "metadata": {},
   "outputs": [
    {
     "data": {
      "text/latex": [
       "$\\displaystyle \\frac{6 h_{0} \\left(k^{L}_{1} \\left(h_{0} + x_{0}\\right) + k^{L}_{2}\\right) + \\left(h_{0} + x_{0}\\right)^{3} \\left(- m_{0} + m_{1}\\right) + 3 \\left(h_{0} + x_{0}\\right)^{2} \\left(h_{0} m_{0} + m_{0} x_{0} - m_{1} x_{0}\\right)}{6 h_{0}} = y_{1}$"
      ],
      "text/plain": [
       "Eq((6*h_0*(k_1^L*(h_0 + x_0) + k_2^L) + (h_0 + x_0)**3*(-m_0 + m_1) + 3*(h_0 + x_0)**2*(h_0*m_0 + m_0*x_0 - m_1*x_0))/(6*h_0), y_1)"
      ]
     },
     "execution_count": 21,
     "metadata": {},
     "output_type": "execute_result"
    }
   ],
   "source": [
    "yL2 =  yL.subs(x, x_1).simplify()\n",
    "eq2 = sp.Eq(yL2, y_1)\n",
    "eq2"
   ]
  },
  {
   "cell_type": "code",
   "execution_count": 25,
   "metadata": {},
   "outputs": [
    {
     "data": {
      "text/latex": [
       "$\\displaystyle \\frac{2 h_{0}^{2} m_{0} x_{0} + h_{0}^{2} m_{1} x_{0} + 3 h_{0} m_{0} x_{0}^{2} + 6 h_{0} y_{0} + m_{0} x_{0}^{3} - m_{1} x_{0}^{3} + x^{3} \\left(- m_{0} + m_{1}\\right) + 3 x^{2} \\left(h_{0} m_{0} + m_{0} x_{0} - m_{1} x_{0}\\right) - x \\left(2 h_{0}^{2} m_{0} + h_{0}^{2} m_{1} + 6 h_{0} m_{0} x_{0} + 3 m_{0} x_{0}^{2} - 3 m_{1} x_{0}^{2} + 6 y_{0} - 6 y_{1}\\right) + 6 x_{0} y_{0} - 6 x_{0} y_{1}}{6 h_{0}}$"
      ],
      "text/plain": [
       "(2*h_0**2*m_0*x_0 + h_0**2*m_1*x_0 + 3*h_0*m_0*x_0**2 + 6*h_0*y_0 + m_0*x_0**3 - m_1*x_0**3 + x**3*(-m_0 + m_1) + 3*x**2*(h_0*m_0 + m_0*x_0 - m_1*x_0) - x*(2*h_0**2*m_0 + h_0**2*m_1 + 6*h_0*m_0*x_0 + 3*m_0*x_0**2 - 3*m_1*x_0**2 + 6*y_0 - 6*y_1) + 6*x_0*y_0 - 6*x_0*y_1)/(6*h_0)"
      ]
     },
     "execution_count": 25,
     "metadata": {},
     "output_type": "execute_result"
    }
   ],
   "source": [
    "resL = sp.solve([eq1, eq2], [k1L, k2L])\n",
    "yL_res = yL.subs(resL).simplify()\n",
    "yL_res"
   ]
  },
  {
   "cell_type": "code",
   "execution_count": 26,
   "metadata": {},
   "outputs": [
    {
     "data": {
      "text/latex": [
       "$\\displaystyle \\frac{6 h_{1} \\left(k^{R}_{1} \\left(h_{0} + x_{0}\\right) + k^{R}_{2}\\right) + \\left(h_{0} + x_{0}\\right)^{3} \\left(- m_{1} + m_{2}\\right) + 3 \\left(h_{0} + x_{0}\\right)^{2} \\left(h_{0} m_{1} - h_{0} m_{2} + h_{1} m_{1} + m_{1} x_{0} - m_{2} x_{0}\\right)}{6 h_{1}} = y_{1}$"
      ],
      "text/plain": [
       "Eq((6*h_1*(k_1^R*(h_0 + x_0) + k_2^R) + (h_0 + x_0)**3*(-m_1 + m_2) + 3*(h_0 + x_0)**2*(h_0*m_1 - h_0*m_2 + h_1*m_1 + m_1*x_0 - m_2*x_0))/(6*h_1), y_1)"
      ]
     },
     "execution_count": 26,
     "metadata": {},
     "output_type": "execute_result"
    }
   ],
   "source": [
    "yR1 = yR.subs(x, x_1).simplify()\n",
    "eq3 = sp.Eq(yR1, y_1)\n",
    "eq3"
   ]
  },
  {
   "cell_type": "code",
   "execution_count": 28,
   "metadata": {},
   "outputs": [
    {
     "data": {
      "text/latex": [
       "$\\displaystyle \\frac{6 h_{1} \\left(k^{R}_{1} \\left(h_{0} + h_{1} + x_{0}\\right) + k^{R}_{2}\\right) + \\left(- m_{1} + m_{2}\\right) \\left(h_{0} + h_{1} + x_{0}\\right)^{3} + 3 \\left(h_{0} + h_{1} + x_{0}\\right)^{2} \\left(h_{0} m_{1} - h_{0} m_{2} + h_{1} m_{1} + m_{1} x_{0} - m_{2} x_{0}\\right)}{6 h_{1}} = y_{2}$"
      ],
      "text/plain": [
       "Eq((6*h_1*(k_1^R*(h_0 + h_1 + x_0) + k_2^R) + (-m_1 + m_2)*(h_0 + h_1 + x_0)**3 + 3*(h_0 + h_1 + x_0)**2*(h_0*m_1 - h_0*m_2 + h_1*m_1 + m_1*x_0 - m_2*x_0))/(6*h_1), y_2)"
      ]
     },
     "execution_count": 28,
     "metadata": {},
     "output_type": "execute_result"
    }
   ],
   "source": [
    "yR2 = yR.subs(x, x_2).simplify()\n",
    "eq4 = sp.Eq(yR2, y_2)\n",
    "eq4"
   ]
  },
  {
   "cell_type": "code",
   "execution_count": 29,
   "metadata": {},
   "outputs": [
    {
     "data": {
      "text/latex": [
       "$\\displaystyle \\frac{h_{0}^{3} m_{1} - h_{0}^{3} m_{2} + 3 h_{0}^{2} h_{1} m_{1} + 3 h_{0}^{2} m_{1} x_{0} - 3 h_{0}^{2} m_{2} x_{0} + 2 h_{0} h_{1}^{2} m_{1} + h_{0} h_{1}^{2} m_{2} + 6 h_{0} h_{1} m_{1} x_{0} + 3 h_{0} m_{1} x_{0}^{2} - 3 h_{0} m_{2} x_{0}^{2} + 6 h_{0} y_{1} - 6 h_{0} y_{2} + 2 h_{1}^{2} m_{1} x_{0} + h_{1}^{2} m_{2} x_{0} + 3 h_{1} m_{1} x_{0}^{2} + 6 h_{1} y_{1} + m_{1} x_{0}^{3} - m_{2} x_{0}^{3} + x^{3} \\left(- m_{1} + m_{2}\\right) + 3 x^{2} \\left(h_{0} m_{1} - h_{0} m_{2} + h_{1} m_{1} + m_{1} x_{0} - m_{2} x_{0}\\right) - x \\left(3 h_{0}^{2} m_{1} - 3 h_{0}^{2} m_{2} + 6 h_{0} h_{1} m_{1} + 6 h_{0} m_{1} x_{0} - 6 h_{0} m_{2} x_{0} + 2 h_{1}^{2} m_{1} + h_{1}^{2} m_{2} + 6 h_{1} m_{1} x_{0} + 3 m_{1} x_{0}^{2} - 3 m_{2} x_{0}^{2} + 6 y_{1} - 6 y_{2}\\right) + 6 x_{0} y_{1} - 6 x_{0} y_{2}}{6 h_{1}}$"
      ],
      "text/plain": [
       "(h_0**3*m_1 - h_0**3*m_2 + 3*h_0**2*h_1*m_1 + 3*h_0**2*m_1*x_0 - 3*h_0**2*m_2*x_0 + 2*h_0*h_1**2*m_1 + h_0*h_1**2*m_2 + 6*h_0*h_1*m_1*x_0 + 3*h_0*m_1*x_0**2 - 3*h_0*m_2*x_0**2 + 6*h_0*y_1 - 6*h_0*y_2 + 2*h_1**2*m_1*x_0 + h_1**2*m_2*x_0 + 3*h_1*m_1*x_0**2 + 6*h_1*y_1 + m_1*x_0**3 - m_2*x_0**3 + x**3*(-m_1 + m_2) + 3*x**2*(h_0*m_1 - h_0*m_2 + h_1*m_1 + m_1*x_0 - m_2*x_0) - x*(3*h_0**2*m_1 - 3*h_0**2*m_2 + 6*h_0*h_1*m_1 + 6*h_0*m_1*x_0 - 6*h_0*m_2*x_0 + 2*h_1**2*m_1 + h_1**2*m_2 + 6*h_1*m_1*x_0 + 3*m_1*x_0**2 - 3*m_2*x_0**2 + 6*y_1 - 6*y_2) + 6*x_0*y_1 - 6*x_0*y_2)/(6*h_1)"
      ]
     },
     "execution_count": 29,
     "metadata": {},
     "output_type": "execute_result"
    }
   ],
   "source": [
    "resR = sp.solve([eq3, eq4], [k1R, k2R])\n",
    "yR_res = yR.subs(resR).simplify()\n",
    "yR_res"
   ]
  },
  {
   "cell_type": "code",
   "execution_count": 30,
   "metadata": {},
   "outputs": [
    {
     "data": {
      "text/latex": [
       "$\\displaystyle \\frac{h_{0} m_{0}}{6} + \\frac{h_{0} m_{1}}{3} - \\frac{y_{0}}{h_{0}} + \\frac{y_{1}}{h_{0}}$"
      ],
      "text/plain": [
       "h_0*m_0/6 + h_0*m_1/3 - y_0/h_0 + y_1/h_0"
      ]
     },
     "execution_count": 30,
     "metadata": {},
     "output_type": "execute_result"
    }
   ],
   "source": [
    "yp1L = sp.diff(yL_res, x).subs(x, x_1).simplify()\n",
    "yp1L"
   ]
  },
  {
   "cell_type": "code",
   "execution_count": 31,
   "metadata": {},
   "outputs": [
    {
     "data": {
      "text/latex": [
       "$\\displaystyle - \\frac{h_{1} m_{1}}{3} - \\frac{h_{1} m_{2}}{6} - \\frac{y_{1}}{h_{1}} + \\frac{y_{2}}{h_{1}}$"
      ],
      "text/plain": [
       "-h_1*m_1/3 - h_1*m_2/6 - y_1/h_1 + y_2/h_1"
      ]
     },
     "execution_count": 31,
     "metadata": {},
     "output_type": "execute_result"
    }
   ],
   "source": [
    "yp1R = sp.diff(yR_res, x).subs(x, x_1).simplify()\n",
    "yp1R"
   ]
  },
  {
   "cell_type": "code",
   "execution_count": 32,
   "metadata": {},
   "outputs": [
    {
     "data": {
      "text/latex": [
       "$\\displaystyle \\frac{h_{0} m_{0}}{6} + \\frac{h_{0} m_{1}}{3} + \\frac{h_{1} m_{1}}{3} + \\frac{h_{1} m_{2}}{6} + \\frac{y_{1}}{h_{1}} - \\frac{y_{2}}{h_{1}} - \\frac{y_{0}}{h_{0}} + \\frac{y_{1}}{h_{0}} = 0$"
      ],
      "text/plain": [
       "Eq(h_0*m_0/6 + h_0*m_1/3 + h_1*m_1/3 + h_1*m_2/6 + y_1/h_1 - y_2/h_1 - y_0/h_0 + y_1/h_0, 0)"
      ]
     },
     "execution_count": 32,
     "metadata": {},
     "output_type": "execute_result"
    }
   ],
   "source": [
    "eq = sp.Eq(yp1L-yp1R, 0).simplify()\n",
    "eq"
   ]
  },
  {
   "cell_type": "code",
   "execution_count": null,
   "metadata": {},
   "outputs": [],
   "source": []
  }
 ],
 "metadata": {
  "kernelspec": {
   "display_name": "Python 3",
   "language": "python",
   "name": "python3"
  },
  "language_info": {
   "codemirror_mode": {
    "name": "ipython",
    "version": 3
   },
   "file_extension": ".py",
   "mimetype": "text/x-python",
   "name": "python",
   "nbconvert_exporter": "python",
   "pygments_lexer": "ipython3",
   "version": "3.11.6"
  }
 },
 "nbformat": 4,
 "nbformat_minor": 2
}

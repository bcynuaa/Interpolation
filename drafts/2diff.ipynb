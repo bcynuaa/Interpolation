{
 "cells": [
  {
   "cell_type": "code",
   "execution_count": 1,
   "metadata": {},
   "outputs": [],
   "source": [
    "import sympy as sp"
   ]
  },
  {
   "cell_type": "code",
   "execution_count": 2,
   "metadata": {},
   "outputs": [],
   "source": [
    "x0, x1, x2 = sp.symbols('x0 x1 x2')\n",
    "y0, y1, y2 = sp.symbols('y0 y1 y2')"
   ]
  },
  {
   "cell_type": "code",
   "execution_count": 3,
   "metadata": {},
   "outputs": [
    {
     "data": {
      "text/latex": [
       "$\\displaystyle \\left[\\begin{matrix}1 & x_{0} & x_{0}^{2}\\\\1 & x_{1} & x_{1}^{2}\\\\1 & x_{2} & x_{2}^{2}\\end{matrix}\\right]$"
      ],
      "text/plain": [
       "Matrix([\n",
       "[1, x0, x0**2],\n",
       "[1, x1, x1**2],\n",
       "[1, x2, x2**2]])"
      ]
     },
     "execution_count": 3,
     "metadata": {},
     "output_type": "execute_result"
    }
   ],
   "source": [
    "mat = sp.Matrix([\n",
    "    [1, x0, x0**2],\n",
    "    [1, x1, x1**2],\n",
    "    [1, x2, x2**2]\n",
    "])\n",
    "mat"
   ]
  },
  {
   "cell_type": "code",
   "execution_count": 4,
   "metadata": {},
   "outputs": [],
   "source": [
    "coeff = mat.inv() @ sp.Matrix([y0, y1, y2])"
   ]
  },
  {
   "cell_type": "code",
   "execution_count": 5,
   "metadata": {},
   "outputs": [
    {
     "data": {
      "text/latex": [
       "$\\displaystyle \\left[\\begin{matrix}\\frac{x_{0} x_{1} y_{2}}{x_{0} x_{1} - x_{0} x_{2} - x_{1} x_{2} + x_{2}^{2}} - \\frac{x_{0} x_{2} y_{1}}{x_{0} x_{1} - x_{0} x_{2} - x_{1}^{2} + x_{1} x_{2}} + \\frac{x_{1} x_{2} y_{0}}{x_{0}^{2} - x_{0} x_{1} - x_{0} x_{2} + x_{1} x_{2}}\\\\\\frac{y_{0} \\left(- x_{1} - x_{2}\\right)}{x_{0}^{2} - x_{0} x_{1} - x_{0} x_{2} + x_{1} x_{2}} + \\frac{y_{1} \\left(x_{0} + x_{2}\\right)}{x_{0} x_{1} - x_{0} x_{2} - x_{1}^{2} + x_{1} x_{2}} + \\frac{y_{2} \\left(- x_{0} - x_{1}\\right)}{x_{0} x_{1} - x_{0} x_{2} - x_{1} x_{2} + x_{2}^{2}}\\\\\\frac{y_{0}}{x_{0}^{2} - x_{0} x_{1} - x_{0} x_{2} + x_{1} x_{2}} - \\frac{y_{1}}{x_{0} x_{1} - x_{0} x_{2} - x_{1}^{2} + x_{1} x_{2}} + \\frac{y_{2}}{x_{0} x_{1} - x_{0} x_{2} - x_{1} x_{2} + x_{2}^{2}}\\end{matrix}\\right]$"
      ],
      "text/plain": [
       "Matrix([\n",
       "[              x0*x1*y2/(x0*x1 - x0*x2 - x1*x2 + x2**2) - x0*x2*y1/(x0*x1 - x0*x2 - x1**2 + x1*x2) + x1*x2*y0/(x0**2 - x0*x1 - x0*x2 + x1*x2)],\n",
       "[y0*(-x1 - x2)/(x0**2 - x0*x1 - x0*x2 + x1*x2) + y1*(x0 + x2)/(x0*x1 - x0*x2 - x1**2 + x1*x2) + y2*(-x0 - x1)/(x0*x1 - x0*x2 - x1*x2 + x2**2)],\n",
       "[                                y0/(x0**2 - x0*x1 - x0*x2 + x1*x2) - y1/(x0*x1 - x0*x2 - x1**2 + x1*x2) + y2/(x0*x1 - x0*x2 - x1*x2 + x2**2)]])"
      ]
     },
     "execution_count": 5,
     "metadata": {},
     "output_type": "execute_result"
    }
   ],
   "source": [
    "coeff"
   ]
  },
  {
   "cell_type": "code",
   "execution_count": 6,
   "metadata": {},
   "outputs": [],
   "source": [
    "c, b, a = coeff"
   ]
  },
  {
   "cell_type": "code",
   "execution_count": 7,
   "metadata": {},
   "outputs": [],
   "source": [
    "x = sp.symbols('x')"
   ]
  },
  {
   "cell_type": "code",
   "execution_count": 8,
   "metadata": {},
   "outputs": [],
   "source": [
    "y = a*x**2 + b*x + c\n",
    "y = sp.simplify(y)"
   ]
  },
  {
   "cell_type": "code",
   "execution_count": 9,
   "metadata": {},
   "outputs": [
    {
     "data": {
      "text/latex": [
       "$\\displaystyle \\frac{- x^{2} x_{0} y_{1} + x^{2} x_{0} y_{2} + x^{2} x_{1} y_{0} - x^{2} x_{1} y_{2} - x^{2} x_{2} y_{0} + x^{2} x_{2} y_{1} + x x_{0}^{2} y_{1} - x x_{0}^{2} y_{2} - x x_{1}^{2} y_{0} + x x_{1}^{2} y_{2} + x x_{2}^{2} y_{0} - x x_{2}^{2} y_{1} + x_{0}^{2} x_{1} y_{2} - x_{0}^{2} x_{2} y_{1} - x_{0} x_{1}^{2} y_{2} + x_{0} x_{2}^{2} y_{1} + x_{1}^{2} x_{2} y_{0} - x_{1} x_{2}^{2} y_{0}}{x_{0}^{2} x_{1} - x_{0}^{2} x_{2} - x_{0} x_{1}^{2} + x_{0} x_{2}^{2} + x_{1}^{2} x_{2} - x_{1} x_{2}^{2}}$"
      ],
      "text/plain": [
       "(-x**2*x0*y1 + x**2*x0*y2 + x**2*x1*y0 - x**2*x1*y2 - x**2*x2*y0 + x**2*x2*y1 + x*x0**2*y1 - x*x0**2*y2 - x*x1**2*y0 + x*x1**2*y2 + x*x2**2*y0 - x*x2**2*y1 + x0**2*x1*y2 - x0**2*x2*y1 - x0*x1**2*y2 + x0*x2**2*y1 + x1**2*x2*y0 - x1*x2**2*y0)/(x0**2*x1 - x0**2*x2 - x0*x1**2 + x0*x2**2 + x1**2*x2 - x1*x2**2)"
      ]
     },
     "execution_count": 9,
     "metadata": {},
     "output_type": "execute_result"
    }
   ],
   "source": [
    "y"
   ]
  },
  {
   "cell_type": "code",
   "execution_count": 10,
   "metadata": {},
   "outputs": [],
   "source": [
    "h0, h1 = sp.symbols('h0 h1')"
   ]
  },
  {
   "cell_type": "code",
   "execution_count": 11,
   "metadata": {},
   "outputs": [
    {
     "data": {
      "text/latex": [
       "$\\displaystyle \\frac{2 \\left(- h_{0} y_{1} + h_{0} y_{2} + h_{1} y_{0} - h_{1} y_{1}\\right)}{h_{0} h_{1} \\left(h_{0} + h_{1}\\right)}$"
      ],
      "text/plain": [
       "2*(-h0*y1 + h0*y2 + h1*y0 - h1*y1)/(h0*h1*(h0 + h1))"
      ]
     },
     "execution_count": 11,
     "metadata": {},
     "output_type": "execute_result"
    }
   ],
   "source": [
    "y.diff(x, 2).subs(x, x0).subs(x1, x0+h0).subs(x2, x0+h0+h1).simplify()"
   ]
  },
  {
   "cell_type": "code",
   "execution_count": 12,
   "metadata": {},
   "outputs": [
    {
     "data": {
      "text/latex": [
       "$\\displaystyle \\frac{2 \\left(- h_{0} y_{1} + h_{0} y_{2} + h_{1} y_{0} - h_{1} y_{1}\\right)}{h_{0} h_{1} \\left(h_{0} + h_{1}\\right)}$"
      ],
      "text/plain": [
       "2*(-h0*y1 + h0*y2 + h1*y0 - h1*y1)/(h0*h1*(h0 + h1))"
      ]
     },
     "execution_count": 12,
     "metadata": {},
     "output_type": "execute_result"
    }
   ],
   "source": [
    "y.diff(x, 2).subs(x1, x0+h0).subs(x2, x0+h0+h1).simplify()"
   ]
  },
  {
   "cell_type": "code",
   "execution_count": null,
   "metadata": {},
   "outputs": [],
   "source": []
  }
 ],
 "metadata": {
  "kernelspec": {
   "display_name": "Python 3",
   "language": "python",
   "name": "python3"
  },
  "language_info": {
   "codemirror_mode": {
    "name": "ipython",
    "version": 3
   },
   "file_extension": ".py",
   "mimetype": "text/x-python",
   "name": "python",
   "nbconvert_exporter": "python",
   "pygments_lexer": "ipython3",
   "version": "3.11.6"
  }
 },
 "nbformat": 4,
 "nbformat_minor": 2
}

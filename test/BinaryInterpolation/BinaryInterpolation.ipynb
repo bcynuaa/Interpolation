{
 "cells": [
  {
   "cell_type": "code",
   "execution_count": 1,
   "metadata": {},
   "outputs": [],
   "source": [
    "import numpy as np\n",
    "import matplotlib.pyplot as plt"
   ]
  },
  {
   "cell_type": "code",
   "execution_count": 2,
   "metadata": {},
   "outputs": [],
   "source": [
    "x = np.linspace(0, 5, 11)\n",
    "y = np.linspace(0, 5, 6) - 1"
   ]
  },
  {
   "cell_type": "code",
   "execution_count": 3,
   "metadata": {},
   "outputs": [],
   "source": [
    "X, Y = np.meshgrid(x, y)"
   ]
  },
  {
   "cell_type": "code",
   "execution_count": 4,
   "metadata": {},
   "outputs": [],
   "source": [
    "Z = (3*Y + 1) * (X**5/120 - X**4/24 + X**3/6 - X**2/2 + X - 1)"
   ]
  },
  {
   "cell_type": "code",
   "execution_count": 5,
   "metadata": {},
   "outputs": [
    {
     "data": {
      "text/plain": [
       "array([0. , 0.5, 1. , 1.5, 2. , 2.5, 3. , 3.5, 4. , 4.5, 5. ])"
      ]
     },
     "execution_count": 5,
     "metadata": {},
     "output_type": "execute_result"
    }
   ],
   "source": [
    "x"
   ]
  },
  {
   "cell_type": "code",
   "execution_count": 6,
   "metadata": {},
   "outputs": [
    {
     "data": {
      "text/plain": [
       "array([-1.,  0.,  1.,  2.,  3.,  4.])"
      ]
     },
     "execution_count": 6,
     "metadata": {},
     "output_type": "execute_result"
    }
   ],
   "source": [
    "y"
   ]
  },
  {
   "cell_type": "code",
   "execution_count": 7,
   "metadata": {},
   "outputs": [
    {
     "data": {
      "text/plain": [
       "(6, 11)"
      ]
     },
     "execution_count": 7,
     "metadata": {},
     "output_type": "execute_result"
    }
   ],
   "source": [
    "Z.shape"
   ]
  },
  {
   "cell_type": "code",
   "execution_count": 8,
   "metadata": {},
   "outputs": [
    {
     "data": {
      "text/plain": [
       "array([ 2.00000000e+00,  1.21302083e+00,  7.33333333e-01,  4.20312500e-01,\n",
       "        1.33333333e-01, -3.30729167e-01, -1.30000000e+00, -3.29010417e+00,\n",
       "       -7.06666667e+00, -1.37078125e+01, -2.46666667e+01, -1.00000000e+00,\n",
       "       -6.06510417e-01, -3.66666667e-01, -2.10156250e-01, -6.66666667e-02,\n",
       "        1.65364583e-01,  6.50000000e-01,  1.64505208e+00,  3.53333333e+00,\n",
       "        6.85390625e+00,  1.23333333e+01, -4.00000000e+00, -2.42604167e+00,\n",
       "       -1.46666667e+00, -8.40625000e-01, -2.66666667e-01,  6.61458333e-01,\n",
       "        2.60000000e+00,  6.58020833e+00,  1.41333333e+01,  2.74156250e+01,\n",
       "        4.93333333e+01, -7.00000000e+00, -4.24557292e+00, -2.56666667e+00,\n",
       "       -1.47109375e+00, -4.66666667e-01,  1.15755208e+00,  4.55000000e+00,\n",
       "        1.15153646e+01,  2.47333333e+01,  4.79773437e+01,  8.63333333e+01,\n",
       "       -1.00000000e+01, -6.06510417e+00, -3.66666667e+00, -2.10156250e+00,\n",
       "       -6.66666667e-01,  1.65364583e+00,  6.50000000e+00,  1.64505208e+01,\n",
       "        3.53333333e+01,  6.85390625e+01,  1.23333333e+02, -1.30000000e+01,\n",
       "       -7.88463542e+00, -4.76666667e+00, -2.73203125e+00, -8.66666667e-01,\n",
       "        2.14973958e+00,  8.45000000e+00,  2.13856771e+01,  4.59333333e+01,\n",
       "        8.91007812e+01,  1.60333333e+02])"
      ]
     },
     "execution_count": 8,
     "metadata": {},
     "output_type": "execute_result"
    }
   ],
   "source": [
    "Z.flatten()"
   ]
  },
  {
   "cell_type": "code",
   "execution_count": 9,
   "metadata": {},
   "outputs": [],
   "source": [
    "data = np.loadtxt(\"../../bin/test/BinaryInterpolationTest/BinaryInterpolationTest.dat\")\n",
    "minor_n = 101\n",
    "minor_x = np.linspace(0, 5, minor_n)\n",
    "minor_y = np.linspace(-1, 4, minor_n)"
   ]
  },
  {
   "cell_type": "code",
   "execution_count": 10,
   "metadata": {},
   "outputs": [
    {
     "data": {
      "image/png": "[encoded data removed]",
      "text/plain": [
       "<Figure size 1000x400 with 4 Axes>"
      ]
     },
     "metadata": {},
     "output_type": "display_data"
    }
   ],
   "source": [
    "n_level = 6\n",
    "plt.figure(figsize=(10, 4))\n",
    "ax1 = plt.subplot(121)\n",
    "ax1.contourf(X, Y, Z, n_level)\n",
    "ax1.set_title(\"Original Data\")\n",
    "plt.colorbar(plt.contourf(X, Y, Z, n_level))\n",
    "ax2 = plt.subplot(122)\n",
    "ax2.contourf(minor_x, minor_y, data, n_level)\n",
    "ax2.set_title(\"Interpolated Data\")\n",
    "plt.colorbar(plt.contourf(minor_x, minor_y, data, n_level))\n",
    "plt.show()"
   ]
  }
 ],
 "metadata": {
  "kernelspec": {
   "display_name": "Python 3",
   "language": "python",
   "name": "python3"
  },
  "language_info": {
   "codemirror_mode": {
    "name": "ipython",
    "version": 3
   },
   "file_extension": ".py",
   "mimetype": "text/x-python",
   "name": "python",
   "nbconvert_exporter": "python",
   "pygments_lexer": "ipython3",
   "version": "3.11.6"
  }
 },
 "nbformat": 4,
 "nbformat_minor": 2
}
